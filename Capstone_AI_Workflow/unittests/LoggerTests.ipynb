{
 "cells": [
  {
   "cell_type": "code",
   "execution_count": 3,
   "metadata": {},
   "outputs": [],
   "source": [
    "#!/usr/bin/env python\n",
    "\"\"\"\n",
    "model tests\n",
    "\"\"\"\n",
    "import os\n",
    "import sys\n",
    "import unittest\n",
    "import pathlib as pl\n",
    "# lib_path = os.path.abspath(os.path.join('../'))\n",
    "# sys.path.append(lib_path)\n",
    "\n",
    "## import model specific functions and variables\n",
    "from model import *\n",
    " \n",
    "## import model specific functions and variables\n",
    "## import the libraries\n",
    "import time,os,re,csv,sys,uuid,joblib\n",
    "from datetime import date\n",
    "import numpy as np\n",
    "from sklearn import svm\n",
    "from sklearn import datasets\n",
    "from sklearn.model_selection import train_test_split"
   ]
  },
  {
   "cell_type": "code",
   "execution_count": 4,
   "metadata": {},
   "outputs": [],
   "source": [
    "class ModelTest(unittest.TestCase):\n",
    "    \"\"\"\n",
    "    test the essential functionality\n",
    "    \"\"\"\n",
    "        \n",
    "    def test_01_train(self):\n",
    "        \"\"\"\n",
    "        test the train functionality\n",
    "        \"\"\"\n",
    "\n",
    "        ## train the model\n",
    "        model_train('data')\n",
    "        self.assertTrue(os.path.exists(saved_model))\n",
    "\n",
    "    def test_02_load(self):\n",
    "        \"\"\"\n",
    "        test the train functionality\n",
    "        \"\"\"\n",
    "                        \n",
    "        ## load the model\n",
    "        model = model_load()\n",
    "        self.assertTrue('predict' in dir(model))\n",
    "        self.assertTrue('fit' in dir(model))\n",
    "\n",
    "    def test_03_predict(self):\n",
    "        \"\"\"\n",
    "        test the predict functionality\n",
    "        \"\"\"\n",
    "\n",
    "        ## load model first\n",
    "        model = model_load()\n",
    "        \n",
    "        ## predict\n",
    "        if len(query.shape) == 1:\n",
    "            query = query.reshape(1, -1)\n",
    "            y_pred = model.predict(query)\n",
    "            \n",
    "            self.assertTrue(y_pred[:5])\n",
    "\n",
    "    def test_04_logging(self):\n",
    "        \"\"\"\n",
    "        \"\"\"\n",
    "        with open(\"Prediction.log\",'a') as csvfile:\n",
    "            df = pd.read_csv(os.path.join(\".\",csvfile))\n",
    "            dat = df.head(5)\n",
    "            self.assertTrue(dat)\n",
    "        "
   ]
  },
  {
   "cell_type": "code",
   "execution_count": null,
   "metadata": {},
   "outputs": [],
   "source": [
    "### Run the tests\n",
    "if __name__ == '__main__':\n",
    "    unittest.main()"
   ]
  }
 ],
 "metadata": {
  "kernelspec": {
   "display_name": "Python 3",
   "language": "python",
   "name": "python3"
  },
  "language_info": {
   "codemirror_mode": {
    "name": "ipython",
    "version": 3
   },
   "file_extension": ".py",
   "mimetype": "text/x-python",
   "name": "python",
   "nbconvert_exporter": "python",
   "pygments_lexer": "ipython3",
   "version": "3.7.3"
  }
 },
 "nbformat": 4,
 "nbformat_minor": 2
}
